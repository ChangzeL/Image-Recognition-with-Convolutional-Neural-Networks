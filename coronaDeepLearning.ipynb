{
 "cells": [
  {
   "cell_type": "code",
   "execution_count": null,
   "metadata": {},
   "outputs": [],
   "source": [
    "from tensorflow.keras.preprocessing import image\n",
    "from tensorflow.keras.layers import *\n",
    "from tensorflow.keras.models import *\n",
    "import tensorflow as tf\n",
    "print('Imported Successfully!')"
   ]
  },
  {
   "cell_type": "code",
   "execution_count": null,
   "metadata": {},
   "outputs": [],
   "source": [
    "model = Sequential()\n",
    "model.add(Input(shape=(224, 224, 3)))  # define shape of input layer\n",
    "model.add(Conv2D(32, kernel_size=(3,3), activation=\"relu\"))\n",
    "model.add(Conv2D(64, kernel_size=(3,3), activation=\"relu\"))\n",
    "model.add(MaxPooling2D(pool_size=(2,2)))\n",
    "model.add(Dropout(0.25))\n",
    "model.add(Conv2D(128, kernel_size=(3,3), activation=\"relu\"))\n",
    "model.add(MaxPooling2D(pool_size=(2,2)))\n",
    "model.add(Dropout(0.25))\n",
    "model.add(Flatten())\n",
    "model.add(Dense(64, activation = \"relu\"))\n",
    "model.add(Dropout(0.5))\n",
    "model.add(Dense(1, activation=\"sigmoid\"))\n",
    "\n",
    "model.compile(loss=\"binary_crossentropy\", optimizer=\"adam\",metrics = [\"accuracy\"])\n",
    "model.summary()"
   ]
  },
  {
   "cell_type": "code",
   "execution_count": null,
   "metadata": {},
   "outputs": [],
   "source": [
    "train_datagen = image.ImageDataGenerator(rescale=1./255, shear_range=0.2, zoom_range=0.2, horizontal_flip=True)\n",
    "test_datagen = image.ImageDataGenerator(rescale = 1./255)\n",
    "\n",
    "print('Created the Data Generator Objects.')"
   ]
  },
  {
   "cell_type": "code",
   "execution_count": null,
   "metadata": {},
   "outputs": [],
   "source": [
    "train_generator = train_datagen.flow_from_directory('CovidDataset/Train',target_size=(224,224),batch_size=32, class_mode=\"binary\")\n",
    "val_generator = test_datagen.flow_from_directory('CovidDataset/Val',target_size=(224,224),batch_size=32, class_mode=\"binary\")\n",
    "#create more data, or the current data only support until epoch 3"
   ]
  },
  {
   "cell_type": "code",
   "execution_count": null,
   "metadata": {},
   "outputs": [],
   "source": [
    "train_dataset = tf.data.Dataset.from_generator(lambda: train_generator, \n",
    "                                               output_signature=(\n",
    "                                                   tf.TensorSpec(shape=(None, 224, 224, 3), dtype=tf.float32),\n",
    "                                                   tf.TensorSpec(shape=(None,), dtype=tf.float32))\n",
    "                                               ).repeat()\n",
    "\n",
    "val_dataset = tf.data.Dataset.from_generator(lambda: val_generator, \n",
    "                                             output_signature=(\n",
    "                                                 tf.TensorSpec(shape=(None, 224, 224, 3), dtype=tf.float32),\n",
    "                                                 tf.TensorSpec(shape=(None,), dtype=tf.float32))\n",
    "                                             ).repeat()\n",
    "\n",
    "# train with .repeat data\n",
    "hist = model.fit(train_dataset, epochs=6, validation_data=val_dataset, steps_per_epoch=len(train_generator), validation_steps=2)\n",
    "print('Train Successfully!')"
   ]
  }
 ],
 "metadata": {
  "language_info": {
   "name": "python"
  }
 },
 "nbformat": 4,
 "nbformat_minor": 2
}
